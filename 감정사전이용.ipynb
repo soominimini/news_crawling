{
  "nbformat": 4,
  "nbformat_minor": 0,
  "metadata": {
    "colab": {
      "name": "감정사전이용.ipynb",
      "provenance": [],
      "collapsed_sections": [],
      "mount_file_id": "1KoGGUtOOGDmPlfBAqHnl40lIdcUGRQbq",
      "authorship_tag": "ABX9TyMLAmjBmrPleYty4dQ91eQO",
      "include_colab_link": true
    },
    "kernelspec": {
      "name": "python3",
      "display_name": "Python 3"
    },
    "accelerator": "GPU"
  },
  "cells": [
    {
      "cell_type": "markdown",
      "metadata": {
        "id": "view-in-github",
        "colab_type": "text"
      },
      "source": [
        "<a href=\"https://colab.research.google.com/github/soominimini/news_crawling/blob/main/%EA%B0%90%EC%A0%95%EC%82%AC%EC%A0%84%EC%9D%B4%EC%9A%A9.ipynb\" target=\"_parent\"><img src=\"https://colab.research.google.com/assets/colab-badge.svg\" alt=\"Open In Colab\"/></a>"
      ]
    },
    {
      "cell_type": "code",
      "metadata": {
        "id": "vZ5-5i_u04k9",
        "colab": {
          "base_uri": "https://localhost:8080/"
        },
        "outputId": "1d085f4c-b2aa-413d-d060-0d08d7bcacda"
      },
      "source": [
        "!apt-get update\n",
        "!apt get install g++ openjdk-8-jdk\n",
        "!pip install JPype1==0.7.4\n",
        "!pip install jpype\n",
        "!pip install rhinoMorph"
      ],
      "execution_count": null,
      "outputs": [
        {
          "output_type": "stream",
          "text": [
            "\r0% [Working]\r            \rGet:1 http://ppa.launchpad.net/c2d4u.team/c2d4u4.0+/ubuntu bionic InRelease [15.9 kB]\n",
            "\r0% [Connecting to archive.ubuntu.com (91.189.88.142)] [Waiting for headers] [Co\r                                                                               \rGet:2 http://security.ubuntu.com/ubuntu bionic-security InRelease [88.7 kB]\n",
            "\r0% [Connecting to archive.ubuntu.com (91.189.88.142)] [2 InRelease 14.2 kB/88.7\r0% [Waiting for headers] [2 InRelease 88.7 kB/88.7 kB 100%] [Connecting to clou\r                                                                               \rHit:3 http://archive.ubuntu.com/ubuntu bionic InRelease\n",
            "\r                                                                               \rGet:4 http://archive.ubuntu.com/ubuntu bionic-updates InRelease [88.7 kB]\n",
            "\r                                                                               \rGet:5 http://ppa.launchpad.net/graphics-drivers/ppa/ubuntu bionic InRelease [21.3 kB]\n",
            "Get:6 http://archive.ubuntu.com/ubuntu bionic-backports InRelease [74.6 kB]\n",
            "Ign:7 https://developer.download.nvidia.com/compute/cuda/repos/ubuntu1804/x86_64  InRelease\n",
            "Get:8 https://cloud.r-project.org/bin/linux/ubuntu bionic-cran40/ InRelease [3,626 B]\n",
            "Get:9 http://ppa.launchpad.net/c2d4u.team/c2d4u4.0+/ubuntu bionic/main Sources [1,696 kB]\n",
            "Ign:10 https://developer.download.nvidia.com/compute/machine-learning/repos/ubuntu1804/x86_64  InRelease\n",
            "Hit:11 https://developer.download.nvidia.com/compute/cuda/repos/ubuntu1804/x86_64  Release\n",
            "Hit:12 https://developer.download.nvidia.com/compute/machine-learning/repos/ubuntu1804/x86_64  Release\n",
            "Get:13 http://ppa.launchpad.net/c2d4u.team/c2d4u4.0+/ubuntu bionic/main amd64 Packages [868 kB]\n",
            "Get:14 http://security.ubuntu.com/ubuntu bionic-security/universe amd64 Packages [1,368 kB]\n",
            "Get:15 http://security.ubuntu.com/ubuntu bionic-security/main amd64 Packages [1,784 kB]\n",
            "Get:16 http://security.ubuntu.com/ubuntu bionic-security/restricted amd64 Packages [223 kB]\n",
            "Get:17 http://security.ubuntu.com/ubuntu bionic-security/multiverse amd64 Packages [15.8 kB]\n",
            "Get:18 http://ppa.launchpad.net/graphics-drivers/ppa/ubuntu bionic/main amd64 Packages [46.5 kB]\n",
            "Get:19 http://archive.ubuntu.com/ubuntu bionic-updates/main amd64 Packages [2,211 kB]\n",
            "Get:20 http://archive.ubuntu.com/ubuntu bionic-updates/multiverse amd64 Packages [54.3 kB]\n",
            "Get:21 http://archive.ubuntu.com/ubuntu bionic-updates/universe amd64 Packages [2,132 kB]\n",
            "Get:22 http://archive.ubuntu.com/ubuntu bionic-updates/restricted amd64 Packages [253 kB]\n",
            "Get:23 https://cloud.r-project.org/bin/linux/ubuntu bionic-cran40/ Packages [40.7 kB]\n",
            "Fetched 11.0 MB in 2s (4,831 kB/s)\n",
            "Reading package lists... Done\n",
            "E: Invalid operation get\n",
            "Collecting JPype1==0.7.4\n",
            "\u001b[?25l  Downloading https://files.pythonhosted.org/packages/ee/99/7c79cb6801b57fc6dfc7033d9c4c00e0d2892df3b903ff6c269fb76c8442/JPype1-0.7.4-cp36-cp36m-manylinux1_x86_64.whl (2.9MB)\n",
            "\u001b[K     |████████████████████████████████| 2.9MB 10.4MB/s \n",
            "\u001b[?25hInstalling collected packages: JPype1\n",
            "Successfully installed JPype1-0.7.4\n",
            "\u001b[31mERROR: Could not find a version that satisfies the requirement jpype (from versions: none)\u001b[0m\n",
            "\u001b[31mERROR: No matching distribution found for jpype\u001b[0m\n",
            "Collecting rhinoMorph\n",
            "\u001b[?25l  Downloading https://files.pythonhosted.org/packages/63/72/431a57ae3b2fa4e1db5524ff1d8802a238b31ca5cd3e36af43fcb3820eaa/rhinoMorph-3.8.0.0-py3-none-any.whl (3.0MB)\n",
            "\u001b[K     |████████████████████████████████| 3.0MB 10.3MB/s \n",
            "\u001b[?25hInstalling collected packages: rhinoMorph\n",
            "Successfully installed rhinoMorph-3.8.0.0\n"
          ],
          "name": "stdout"
        }
      ]
    },
    {
      "cell_type": "code",
      "metadata": {
        "id": "YREUq5v06ZXi"
      },
      "source": [
        "#load data\n",
        "def read_data(filename, encoding ='cp949'):\n",
        "  with open(filename, 'r', encoding=encoding) as f:\n",
        "    data = [line.split('\\t') for line in f.read().splitlines()]\n",
        "    data = data[1:]\n",
        "  return data\n",
        "\n",
        "#write data\n",
        "def write_data(data, filename, encoding='cp949'):\n",
        "  with open(filename, 'w', encoding=encoding) as f:\n",
        "    f.write(data)\n",
        "\n",
        "import pandas as pd\n",
        "\n",
        "donghwa_file1 = read_data('/content/drive/MyDrive/Colab Notebooks/stock_ML/result동화약품__20150101.txt', \"utf-8\")\n",
        "donghwa_file2 = read_data('/content/drive/MyDrive/Colab Notebooks/stock_ML/result동화약품__20160101.txt', \"utf-8\")\n",
        "donghwa_file3 = read_data('/content/drive/MyDrive/Colab Notebooks/stock_ML/result동화약품__20170101.txt', \"utf-8\")\n",
        "donghwa_file4 = read_data('/content/drive/MyDrive/Colab Notebooks/stock_ML/result동화약품__20180101.txt', \"utf-8\")\n",
        "donghwa_file5 = read_data('/content/drive/MyDrive/Colab Notebooks/stock_ML/result동화약품__20190101.txt', \"utf-8\")\n",
        "donghwa_file6 = read_data('/content/drive/MyDrive/Colab Notebooks/stock_ML/result동화약품__20200101.txt', \"utf-8\")\n",
        "\n",
        "donghwa = donghwa_file1+donghwa_file2+donghwa_file3+donghwa_file4+donghwa_file5+donghwa_file6\n",
        "\n",
        "samhwa_file1 = read_data('/content/drive/MyDrive/Colab Notebooks/stock_ML/result삼화페인트__20150101.txt', \"utf-8\")\n",
        "samhwa_file2 = read_data('/content/drive/MyDrive/Colab Notebooks/stock_ML/result삼화페인트__20160101.txt', \"utf-8\")\n",
        "samhwa_file3 = read_data('/content/drive/MyDrive/Colab Notebooks/stock_ML/result삼화페인트__20170101.txt', \"utf-8\")\n",
        "samhwa_file4 = read_data('/content/drive/MyDrive/Colab Notebooks/stock_ML/result삼화페인트__20180101.txt', \"utf-8\")\n",
        "samhwa_file5 = read_data('/content/drive/MyDrive/Colab Notebooks/stock_ML/result삼화페인트__20190101.txt', \"utf-8\")\n",
        "samhwa_file6 = read_data('/content/drive/MyDrive/Colab Notebooks/stock_ML/result삼화페인트__20200101.txt', \"utf-8\")\n",
        "samhwa = samhwa_file1+samhwa_file2+samhwa_file3+samhwa_file4+samhwa_file5+samhwa_file6\n",
        "\n",
        "\n",
        "KR_file1 = read_data('/content/drive/MyDrive/Colab Notebooks/stock_ML/resultKR모터스__20150101.txt', \"utf-8\")\n",
        "KR_file2 = read_data('/content/drive/MyDrive/Colab Notebooks/stock_ML/resultKR모터스__20160101.txt', \"utf-8\")\n",
        "KR_file3 = read_data('/content/drive/MyDrive/Colab Notebooks/stock_ML/resultKR모터스__20170101.txt', \"utf-8\")\n",
        "KR_file4 = read_data('/content/drive/MyDrive/Colab Notebooks/stock_ML/resultKR모터스__20180101.txt', \"utf-8\")\n",
        "KR_file5 = read_data('/content/drive/MyDrive/Colab Notebooks/stock_ML/resultKR모터스__20190101.txt', \"utf-8\")\n",
        "KR_file6 = read_data('/content/drive/MyDrive/Colab Notebooks/stock_ML/resultKR모터스__20200101.txt', \"utf-8\")\n",
        "KR = KR_file1+KR_file2+KR_file3+KR_file4+KR_file5+KR_file6\n",
        "\n",
        "\n",
        "HITEHD_file1 = read_data('/content/drive/MyDrive/Colab Notebooks/stock_ML/result하이트진로홀딩스__20150101.txt', \"utf-8\")\n",
        "HITEHD_file2 = read_data('/content/drive/MyDrive/Colab Notebooks/stock_ML/result하이트진로홀딩스__20160101.txt', \"utf-8\")\n",
        "HITEHD_file3 = read_data('/content/drive/MyDrive/Colab Notebooks/stock_ML/result하이트진로홀딩스__20170101.txt', \"utf-8\")\n",
        "HITEHD_file4 = read_data('/content/drive/MyDrive/Colab Notebooks/stock_ML/result하이트진로홀딩스__20180101.txt', \"utf-8\")\n",
        "HITEHD_file5 = read_data('/content/drive/MyDrive/Colab Notebooks/stock_ML/result하이트진로홀딩스__20190101.txt', \"utf-8\")\n",
        "HITEHD_file6 = read_data('/content/drive/MyDrive/Colab Notebooks/stock_ML/result하이트진로홀딩스__20200101.txt', \"utf-8\")\n",
        "HITEHD = HITEHD_file1+HITEHD_file2+HITEHD_file3+HITEHD_file4+HITEHD_file5+HITEHD_file6\n",
        "\n",
        "\n",
        "HITE_file1 = read_data('/content/drive/MyDrive/Colab Notebooks/stock_ML/result하이트진로__20150101.txt', \"utf-8\")\n",
        "HITE_file2 = read_data('/content/drive/MyDrive/Colab Notebooks/stock_ML/result하이트진로__20160101.txt', \"utf-8\")\n",
        "HITE_file3 = read_data('/content/drive/MyDrive/Colab Notebooks/stock_ML/result하이트진로__20170101.txt', \"utf-8\")\n",
        "HITE_file4 = read_data('/content/drive/MyDrive/Colab Notebooks/stock_ML/result하이트진로__20180101.txt', \"utf-8\")\n",
        "HITE_file5 = read_data('/content/drive/MyDrive/Colab Notebooks/stock_ML/result하이트진로__20190101.txt', \"utf-8\")\n",
        "HITE_file6 = read_data('/content/drive/MyDrive/Colab Notebooks/stock_ML/result하이트진로__20200101.txt', \"utf-8\")\n",
        "HITE = HITE_file1+HITE_file2+HITE_file3+HITE_file4+HITE_file5+HITE_file6\n",
        "\n",
        "\n",
        "yuhan_file1 = read_data('/content/drive/MyDrive/Colab Notebooks/stock_ML/result유한__20150101.txt', \"utf-8\")\n",
        "yuhan_file2 = read_data('/content/drive/MyDrive/Colab Notebooks/stock_ML/result유한__20160101.txt', \"utf-8\")\n",
        "yuhan_file3 = read_data('/content/drive/MyDrive/Colab Notebooks/stock_ML/result유한__20170101.txt', \"utf-8\")\n",
        "yuhan_file4 = read_data('/content/drive/MyDrive/Colab Notebooks/stock_ML/result유한__20180101.txt', \"utf-8\")\n",
        "yuhan_file5 = read_data('/content/drive/MyDrive/Colab Notebooks/stock_ML/result유한__20190101.txt', \"utf-8\")\n",
        "yuhan_file6 = read_data('/content/drive/MyDrive/Colab Notebooks/stock_ML/result유한__20200101.txt', \"utf-8\")\n",
        "yuhan = yuhan_file1+yuhan_file2+yuhan_file3+yuhan_file4+yuhan_file5+yuhan_file6\n",
        "\n",
        "\n",
        "\n",
        "samyang_file1 = read_data('/content/drive/MyDrive/Colab Notebooks/stock_ML/result삼양홀딩스__20150101.txt', \"utf-8\")\n",
        "samyang_file2 = read_data('/content/drive/MyDrive/Colab Notebooks/stock_ML/result삼양홀딩스__20160101.txt', \"utf-8\")\n",
        "samyang_file3 = read_data('/content/drive/MyDrive/Colab Notebooks/stock_ML/result삼양홀딩스__20170101.txt', \"utf-8\")\n",
        "samyang_file4 = read_data('/content/drive/MyDrive/Colab Notebooks/stock_ML/result삼양홀딩스__20180101.txt', \"utf-8\")\n",
        "samyang_file5 = read_data('/content/drive/MyDrive/Colab Notebooks/stock_ML/result삼양홀딩스__20190101.txt', \"utf-8\")\n",
        "samyang_file6 = read_data('/content/drive/MyDrive/Colab Notebooks/stock_ML/result삼양홀딩스__20200101.txt', \"utf-8\")\n",
        "samyang = samyang_file1+samyang_file2+samyang_file3+samyang_file4+samyang_file5+samyang_file6\n",
        "\n",
        "\n",
        "meritz_file1 = read_data('/content/drive/MyDrive/Colab Notebooks/stock_ML/result메리츠화재__20150101.txt', \"utf-8\")\n",
        "meritz_file2 = read_data('/content/drive/MyDrive/Colab Notebooks/stock_ML/result메리츠화재__20160101.txt', \"utf-8\")\n",
        "meritz_file3 = read_data('/content/drive/MyDrive/Colab Notebooks/stock_ML/result메리츠화재__20170101.txt', \"utf-8\")\n",
        "meritz_file4 = read_data('/content/drive/MyDrive/Colab Notebooks/stock_ML/result메리츠화재__20180101.txt', \"utf-8\")\n",
        "meritz_file5 = read_data('/content/drive/MyDrive/Colab Notebooks/stock_ML/result메리츠화재__20190101.txt', \"utf-8\")\n",
        "meritz_file6 = read_data('/content/drive/MyDrive/Colab Notebooks/stock_ML/result메리츠화재__20200101.txt', \"utf-8\")\n",
        "meritz_file = meritz_file1+meritz_file2+meritz_file3+meritz_file4+meritz_file5+meritz_file6\n",
        "\n",
        "CJ_file1 = read_data('/content/drive/MyDrive/Colab Notebooks/stock_ML/result대한통운__20150101.txt', \"utf-8\")\n",
        "CJ_file2 = read_data('/content/drive/MyDrive/Colab Notebooks/stock_ML/result대한통운__20160101.txt', \"utf-8\")\n",
        "CJ_file3 = read_data('/content/drive/MyDrive/Colab Notebooks/stock_ML/result대한통운__20170101.txt', \"utf-8\")\n",
        "CJ_file4 = read_data('/content/drive/MyDrive/Colab Notebooks/stock_ML/result대한통운__20180101.txt', \"utf-8\")\n",
        "CJ_file5 = read_data('/content/drive/MyDrive/Colab Notebooks/stock_ML/result대한통운__20190101.txt', \"utf-8\")\n",
        "CJ_file6 = read_data('/content/drive/MyDrive/Colab Notebooks/stock_ML/result대한통운__20200101.txt', \"utf-8\")\n",
        "CJ = CJ_file1+CJ_file2+CJ_file3+CJ_file4+CJ_file5+CJ_file6\n",
        "\n",
        "\n",
        "kyungbang_file1 = read_data('/content/drive/MyDrive/Colab Notebooks/stock_ML/result경방__20150101.txt', \"utf-8\")\n",
        "kyungbang_file2 = read_data('/content/drive/MyDrive/Colab Notebooks/stock_ML/result경방__20160101.txt', \"utf-8\")\n",
        "kyungbang_file3 = read_data('/content/drive/MyDrive/Colab Notebooks/stock_ML/result경방__20170101.txt', \"utf-8\")\n",
        "kyungbang_file4 = read_data('/content/drive/MyDrive/Colab Notebooks/stock_ML/result경방__20180101.txt', \"utf-8\")\n",
        "kyungbang_file5 = read_data('/content/drive/MyDrive/Colab Notebooks/stock_ML/result경방__20190101.txt', \"utf-8\")\n",
        "kyungbang_file6 = read_data('/content/drive/MyDrive/Colab Notebooks/stock_ML/result경방__20200101.txt', \"utf-8\")\n",
        "kyungbang = kyungbang_file1+kyungbang_file2+kyungbang_file3+kyungbang_file4+kyungbang_file5+kyungbang_file6"
      ],
      "execution_count": null,
      "outputs": []
    },
    {
      "cell_type": "code",
      "metadata": {
        "id": "1JjiVWvdYHc4"
      },
      "source": [
        "#loading data from 다운\n",
        "\n",
        "kia_file1 = read_data('/content/drive/MyDrive/Colab Notebooks/other_companies/1year/result기아차__20150101.txt', \"utf-8\")\n",
        "kia_file2 = read_data('/content/drive/MyDrive/Colab Notebooks/other_companies/1year/result기아차__20160101.txt', \"utf-8\")\n",
        "kia_file3 = read_data('/content/drive/MyDrive/Colab Notebooks/other_companies/1year/result기아차__20170101.txt', \"utf-8\")\n",
        "kia_file4 = read_data('/content/drive/MyDrive/Colab Notebooks/other_companies/1year/result기아차__20180101.txt', \"utf-8\")\n",
        "kia_file5 = read_data('/content/drive/MyDrive/Colab Notebooks/other_companies/1year/result기아차__20190101.txt', \"utf-8\")\n",
        "kia_file6 = read_data('/content/drive/MyDrive/Colab Notebooks/other_companies/1year/result기아차__20200101.txt', \"utf-8\")\n",
        "kia = kia_file1+kia_file2+kia_file3+kia_file4+kia_file5+kia_file6\n",
        "\n",
        "\n",
        "daelim_file1 = read_data('/content/drive/MyDrive/Colab Notebooks/other_companies/1year/result대림산업__20150101.txt', \"utf-8\")\n",
        "daelim_file2 = read_data('/content/drive/MyDrive/Colab Notebooks/other_companies/1year/result대림산업__20160101.txt', \"utf-8\")\n",
        "daelim_file3 = read_data('/content/drive/MyDrive/Colab Notebooks/other_companies/1year/result대림산업__20170101.txt', \"utf-8\")\n",
        "daelim_file4 = read_data('/content/drive/MyDrive/Colab Notebooks/other_companies/1year/result대림산업__20180101.txt', \"utf-8\")\n",
        "daelim_file5 = read_data('/content/drive/MyDrive/Colab Notebooks/other_companies/1year/result대림산업__20190101.txt', \"utf-8\")\n",
        "daelim_file6 = read_data('/content/drive/MyDrive/Colab Notebooks/other_companies/1year/result대림산업__20200101.txt', \"utf-8\")\n",
        "daelim = daelim_file1+daelim_file2+daelim_file3+daelim_file4+daelim_file5+daelim_file6\n",
        "\n",
        "dayou_file1 = read_data('/content/drive/MyDrive/Colab Notebooks/other_companies/1year/result대유플러스__20150101.txt', \"utf-8\")\n",
        "dayou_file2 = read_data('/content/drive/MyDrive/Colab Notebooks/other_companies/1year/result대유플러스__20160101.txt', \"utf-8\")\n",
        "dayou_file3 = read_data('/content/drive/MyDrive/Colab Notebooks/other_companies/1year/result대유플러스__20170101.txt', \"utf-8\")\n",
        "dayou_file4 = read_data('/content/drive/MyDrive/Colab Notebooks/other_companies/1year/result대유플러스__20180101.txt', \"utf-8\")\n",
        "dayou_file5 = read_data('/content/drive/MyDrive/Colab Notebooks/other_companies/1year/result대유플러스__20190101.txt', \"utf-8\")\n",
        "dayou_file6 = read_data('/content/drive/MyDrive/Colab Notebooks/other_companies/1year/result대유플러스__20200101.txt', \"utf-8\")\n",
        "dayou = dayou_file1+dayou_file2+dayou_file3+dayou_file4+dayou_file5+dayou_file6\n",
        "\n",
        "\n",
        "doosan_file1 = read_data('/content/drive/MyDrive/Colab Notebooks/other_companies/1year/result두산__20150101.txt', \"utf-8\")\n",
        "doosan_file2 = read_data('/content/drive/MyDrive/Colab Notebooks/other_companies/1year/result두산__20160101.txt', \"utf-8\")\n",
        "doosan_file3 = read_data('/content/drive/MyDrive/Colab Notebooks/other_companies/1year/result두산__20170101.txt', \"utf-8\")\n",
        "doosan_file4 = read_data('/content/drive/MyDrive/Colab Notebooks/other_companies/1year/result두산__20180101.txt', \"utf-8\")\n",
        "doosan_file5 = read_data('/content/drive/MyDrive/Colab Notebooks/other_companies/1year/result두산__20190101.txt', \"utf-8\")\n",
        "doosan_file6 = read_data('/content/drive/MyDrive/Colab Notebooks/other_companies/1year/result두산__20200101.txt', \"utf-8\")\n",
        "doosan = doosan_file1+doosan_file2+doosan_file3+doosan_file4+doosan_file5+doosan_file6\n",
        "\n",
        "\n",
        "SCE_file1 = read_data('/content/drive/MyDrive/Colab Notebooks/other_companies/1year/result성창기업지주__20150101.txt', \"utf-8\")\n",
        "SCE_file2 = read_data('/content/drive/MyDrive/Colab Notebooks/other_companies/1year/result성창기업지주__20160101.txt', \"utf-8\")\n",
        "SCE_file3 = read_data('/content/drive/MyDrive/Colab Notebooks/other_companies/1year/result성창기업지주__20170101.txt', \"utf-8\")\n",
        "SCE_file4 = read_data('/content/drive/MyDrive/Colab Notebooks/other_companies/1year/result성창기업지주__20180101.txt', \"utf-8\")\n",
        "SCE_file5 = read_data('/content/drive/MyDrive/Colab Notebooks/other_companies/1year/result성창기업지주__20190101.txt', \"utf-8\")\n",
        "SCE_file6 = read_data('/content/drive/MyDrive/Colab Notebooks/other_companies/1year/result성창기업지주__20200101.txt', \"utf-8\")\n",
        "SCE = SCE_file1+SCE_file2+SCE_file3+SCE_file4+SCE_file5+SCE_file6\n",
        "\n",
        "\n",
        "yuyu_file1 = read_data('/content/drive/MyDrive/Colab Notebooks/other_companies/1year/result유유제약__20150101.txt', \"utf-8\")\n",
        "yuyu_file2 = read_data('/content/drive/MyDrive/Colab Notebooks/other_companies/1year/result유유제약__20160101.txt', \"utf-8\")\n",
        "yuyu_file3 = read_data('/content/drive/MyDrive/Colab Notebooks/other_companies/1year/result유유제약__20170101.txt', \"utf-8\")\n",
        "yuyu_file4 = read_data('/content/drive/MyDrive/Colab Notebooks/other_companies/1year/result유유제약__20180101.txt', \"utf-8\")\n",
        "yuyu_file5 = read_data('/content/drive/MyDrive/Colab Notebooks/other_companies/1year/result유유제약__20190101.txt', \"utf-8\")\n",
        "yuyu_file6 = read_data('/content/drive/MyDrive/Colab Notebooks/other_companies/1year/result유유제약__20200101.txt', \"utf-8\")\n",
        "yuyu = yuyu_file1+yuyu_file2+yuyu_file3+yuyu_file4+yuyu_file5+yuyu_file6\n",
        "\n"
      ],
      "execution_count": null,
      "outputs": []
    },
    {
      "cell_type": "code",
      "metadata": {
        "id": "s09UlcJCm9qp"
      },
      "source": [
        "\n",
        "ret_donghwa =[]\n",
        "ret_samhwa = []\n",
        "ret_kyungbang=[]\n",
        "ret_KR =[]\n",
        "ret_Meritz=[]\n",
        "ret_samyang=[]\n",
        "ret_HITE =[]\n",
        "ret_HITEHD=[]\n",
        "ret_yehan =[]\n",
        "ret_CJ=[]\n",
        "\n",
        "\n",
        "for i in range(1, len(donghwa)-1, 2):\n",
        "  tmp = [donghwa[i][0], donghwa[i+1][0], '1']\n",
        "  ret_donghwa.append(tmp)\n",
        "\n",
        "for i in range(1, len(samhwa)-1, 2):\n",
        "  tmp = [samhwa[i][0], samhwa[i+1][0], '1']\n",
        "  ret_samhwa.append(tmp)\n",
        "\n",
        "for i in range(1, len(KR)-1, 2):\n",
        "  tmp = [KR[i][0], KR[i+1][0], '1']\n",
        "  ret_KR.append(tmp)\n",
        "\n",
        "for i in range(1, len(HITEHD)-1, 2):\n",
        "  tmp = [HITEHD[i][0], HITEHD[i+1][0], '1']\n",
        "  ret_HITEHD.append(tmp)\n",
        "\n",
        "for i in range(1, len(HITE)-1, 2):\n",
        "  tmp = [HITE[i][0], HITE[i+1][0], '1']\n",
        "  ret_HITE.append(tmp)\n",
        "\n",
        "for i in range(1, len(samyang)-1, 2):\n",
        "  tmp = [samyang[i][0], samyang[i+1][0], '1']\n",
        "  ret_samyang.append(tmp)\n",
        "\n",
        "for i in range(1, len(yuhan)-1, 2):\n",
        "  tmp = [yuhan[i][0], yuhan[i+1][0], '1']\n",
        "  ret_yehan.append(tmp)\n",
        "\n",
        "\n",
        "for i in range(1, len(meritz_file)-1, 2):\n",
        "  tmp = [meritz_file[i][0], meritz_file[i+1][0], '1']\n",
        "  ret_Meritz.append(tmp)\n",
        "\n",
        "\n",
        "for i in range(1, len(kyungbang)-1, 2):\n",
        "  tmp = [kyungbang[i][0], kyungbang[i+1][0], '1']\n",
        "  ret_kyungbang.append(tmp)\n",
        "\n",
        "for i in range(1, len(CJ)-1, 2):\n",
        "  tmp = [CJ[i][0], CJ[i+1][0], '1']\n",
        "  ret_CJ.append(tmp)\n",
        "# print(ret)"
      ],
      "execution_count": null,
      "outputs": []
    },
    {
      "cell_type": "code",
      "metadata": {
        "id": "y_ZnxmYglHxc"
      },
      "source": [
        "# # 샘플 데이터 분석 연습\n",
        "\n",
        "# import rhinoMorph\n",
        "# rn = rhinoMorph.startRhino() #사전을 메모리에 로딩하고, 형태소 분석기의 객체 생성\n",
        "\n",
        "# # 형태소 분석된 문장 샘플 보기\n",
        "# sample_data = rhinoMorph.onlyMorph_list(rn, ret_donghwa[0][1], pos=['NNG', 'NNP', 'VV', 'VA', 'XR', 'IC', 'MM', 'MAG', 'MAJ'], eomi=True)\n",
        "\n",
        "# print('sample data:', sample_data)                    # 형태소 분석 결과\n",
        "# print('joined sample data:', ' '.join(sample_data))  # 문자열을 공백으로 연결한다   \n",
        "# # 영어와 비슷하다, 띄어쓰기 단위가 곧 단위고 대부분 의미 있는 단위이다.\n",
        "# # 외국에서 만든 알고리즘 활용"
      ],
      "execution_count": null,
      "outputs": []
    },
    {
      "cell_type": "code",
      "metadata": {
        "id": "1cxoOwMACKGk"
      },
      "source": [
        "# import rhinoMorph\n",
        "# rn = rhinoMorph.startRhino() #사전을 메모리에 로딩하고, 형태소 분석기의 객체 생성\n",
        "\n",
        "# # 전체 데이터 형태소 분석\n",
        "# morphed_data = ''\n",
        "\n",
        "# for data_each in ret_donghwa:\n",
        "#   morphed_data_each = rhinoMorph.onlyMorph_list(rn, data_each[1], pos=['NNG', 'NNP', 'VV', 'VA', 'XR', 'IC', 'MM', 'MAG', 'MAJ'], eomi=True)\n",
        "#   joined_data_each = ' '.join(morphed_data_each)              # 문자열을 하나로 연결\n",
        "  \n",
        "#   if joined_data_each:                                        # 내용이 있는 경우만 저장하게 함\n",
        "#     morphed_data += data_each[0]+\"\\t\"+joined_data_each+\"\\t\"\n",
        "\n",
        "# # 형태소 분석된 파일 저장\n",
        "# write_data(morphed_data, '/content/drive/My Drive/Colab Notebooks/stock_ML/morphed_result.txt', encoding='UTF-8')"
      ],
      "execution_count": null,
      "outputs": []
    },
    {
      "cell_type": "code",
      "metadata": {
        "id": "yY1iUPr3s9Zx"
      },
      "source": [
        "# # 전체 데이터 형태소 분석\n",
        "# morphed_data = ''\n",
        "\n",
        "# for data_each in data:\n",
        "#   morphed_data_each = rhinoMorph.onlyMorph_list(rn, data_each[1], pos=['NNG', 'NNP', 'VV', 'VA', 'XR', 'IC', 'MM', 'MAG', 'MAJ'], eomi=True)\n",
        "#   joined_data_each = ' '.join(morphed_data_each)              # 문자열을 하나로 연결\n",
        "  \n",
        "#   if joined_data_each:                                        # 내용이 있는 경우만 저장하게 함\n",
        "#     morphed_data += data_each[0]+\"\\t\"+joined_data_each+\"\\t\"+data_each[2]+\"\\n\"\n",
        "\n",
        "# # 형태소 분석된 파일 저장\n",
        "# write_data(morphed_data, '/content/drive/My Drive/Colab Notebooks/result_origin.txt', encoding='cp949')"
      ],
      "execution_count": null,
      "outputs": []
    },
    {
      "cell_type": "code",
      "metadata": {
        "id": "ypSgQd5Wsv0G"
      },
      "source": [
        "# morphed_data"
      ],
      "execution_count": null,
      "outputs": []
    },
    {
      "cell_type": "code",
      "metadata": {
        "id": "J0kFvEYdmtsd"
      },
      "source": [
        "#감정 사전 읽기\n",
        "pos = read_data('/content/drive/My Drive/Colab Notebooks/pos_pol_word.txt',\"utf-8\")\n",
        "neg = read_data('/content/drive/My Drive/Colab Notebooks/neg_pol_word.txt',\"utf-8\")\n",
        "neu = read_data('/content/drive/MyDrive/Colab Notebooks/obj_unknown_pol_word.txt',\"utf-8\")\n",
        "\n",
        "\n",
        "data_id = [line[0] for line in ret_donghwa]\n",
        "data_text = [line[1] for line in ret_donghwa]\n",
        "data_senti = [line[2] for line in ret_donghwa]\n",
        "\n",
        "\n",
        "data_id_samhwa = [line[0] for line in ret_samhwa ]\n",
        "data_text_samhwa = [line[1] for line in ret_samhwa ]\n",
        "data_senti_samhwa = [line[2] for line in ret_samhwa ]\n",
        "\n",
        "data_id_kyungbang = [line[0] for line in ret_kyungbang  ]\n",
        "data_text_kyungbang  = [line[1] for line in ret_kyungbang  ]\n",
        "data_senti_kyungbang  = [line[2] for line in ret_kyungbang  ]\n",
        "\n",
        "\n",
        "data_id_KR = [line[0] for line in ret_KR ]\n",
        "data_text_KR = [line[1] for line in ret_KR ]\n",
        "data_senti_KR = [line[2] for line in ret_KR ]\n",
        "\n",
        "data_id_meritz = [line[0] for line in ret_Meritz ]\n",
        "data_text_meritz = [line[1] for line in ret_Meritz ]\n",
        "data_senti_meritz = [line[2] for line in ret_Meritz ]\n",
        "\n",
        "data_id_samyang = [line[0] for line in ret_samyang ]\n",
        "data_text_samyang = [line[1] for line in ret_samyang ]\n",
        "data_senti_samyang = [line[2] for line in ret_samyang ]\n",
        "\n",
        "data_id_HITE = [line[0] for line in ret_HITE ]\n",
        "data_text_HITE = [line[1] for line in ret_HITE ]\n",
        "data_senti_HITE = [line[2] for line in ret_HITE ]\n",
        "\n",
        "\n",
        "data_id_HITEHD = [line[0] for line in ret_HITE ]\n",
        "data_text_HITEHD = [line[1] for line in ret_HITE ]\n",
        "data_senti_HITEHD = [line[2] for line in ret_HITE ]\n",
        "\n",
        "data_id_yuhan = [line[0] for line in ret_yehan ]\n",
        "data_text_yuhan = [line[1] for line in ret_yehan ]\n",
        "data_senti_yuhan = [line[2] for line in ret_yehan ]\n",
        "\n",
        "data_id_CJ = [line[0] for line in ret_CJ ]\n",
        "data_text_CJ = [line[1] for line in ret_CJ ]\n",
        "data_senti_CJ = [line[2] for line in ret_CJ ]\n"
      ],
      "execution_count": null,
      "outputs": []
    },
    {
      "cell_type": "code",
      "metadata": {
        "id": "zlMRW6XrtQD1"
      },
      "source": [
        "# 감정단어 파악\n",
        "\n",
        "def cntWordInLine(data, senti):\n",
        "  senti_found = []\n",
        "  for onedata in data:\n",
        "    oneline_word = onedata.split(' ')       # 한 줄의 데이터를 공백 단위로 분리하여 리스트로 저장\n",
        "    senti_temp = 0\n",
        "    for sentiword in senti:      \n",
        "      if sentiword[0] in oneline_word:      # posword[0] 하여 리스트를 문자열로 추출\n",
        "        senti_temp += 1                     # 현재의 감정단어와 일치하면 숫자를 하나 올려 줌 (중복은 계산 안 함)\n",
        "    senti_found.append(senti_temp)          # 현재의 줄에서 찾은 감성단어의 숫자를 해당 위치에 저장\n",
        "  return senti_found\n",
        "      \n",
        "      \n",
        "\n"
      ],
      "execution_count": null,
      "outputs": []
    },
    {
      "cell_type": "code",
      "metadata": {
        "id": "10X4lAtLEw4C"
      },
      "source": [
        "data_senti_poscnt = cntWordInLine(data_text, pos)      # 발견된 긍정 단어의 숫자 파악\n",
        "data_senti_negcnt = cntWordInLine(data_text, neg)      # 발견된 부정 단어의 숫자 파악\n",
        "data_senti_neucnt = cntWordInLine(data_text, neu)      # 발견된 중립 단어의 숫자 파악\n",
        "\n",
        "data_senti_poscnt_samhwa = cntWordInLine(data_text_samhwa, pos) \n",
        "data_senti_negcnt_samhwa = cntWordInLine(data_text_samhwa, pos) \n",
        "data_senti_neucnt_samhwa = cntWordInLine(data_text_samhwa, pos) \n",
        "\n",
        "data_senti_poscnt_yuhan = cntWordInLine(data_text_yuhan, pos)\n",
        "data_senti_negcnt_yuhan = cntWordInLine(data_text_yuhan, neg) \n",
        "data_senti_neucnt_yuhan = cntWordInLine(data_text_yuhan, neu)\n",
        "\n",
        "data_senti_poscnt_samyang = cntWordInLine(data_text_samyang, pos)  \n",
        "data_senti_negcnt_samyang = cntWordInLine(data_text_samyang, neg)\n",
        "data_senti_neucnt_samyang = cntWordInLine(data_text_samyang, neu)  \n",
        "\n",
        "\n",
        "data_senti_poscnt_meritz = cntWordInLine(data_text_meritz, pos)  \n",
        "data_senti_negcnt_meritz = cntWordInLine(data_text_meritz, neg)\n",
        "data_senti_neucnt_meritz = cntWordInLine(data_text_meritz, neu)  \n",
        "\n",
        "data_senti_poscnt_kb = cntWordInLine(data_text_kyungbang, pos)  \n",
        "data_senti_negcnt_kb = cntWordInLine(data_text_kyungbang, neg)\n",
        "data_senti_neucnt_kb = cntWordInLine(data_text_kyungbang, neu)  \n",
        "\n",
        "data_senti_poscnt_KR = cntWordInLine(data_text_KR, pos)  \n",
        "data_senti_negcnt_KR = cntWordInLine(data_text_KR, neg)\n",
        "data_senti_neucnt_KR = cntWordInLine(data_text_KR, neu)  \n",
        "\n",
        "data_senti_poscnt_HD = cntWordInLine(data_text_HITEHD, pos)  \n",
        "data_senti_negcnt_HD = cntWordInLine(data_text_HITEHD, neg)\n",
        "data_senti_neucnt_HD = cntWordInLine(data_text_HITEHD, neu)  \n",
        "\n",
        "data_senti_poscnt_HITE = cntWordInLine(data_text_HITE, pos)  \n",
        "data_senti_negcnt_HITE = cntWordInLine(data_text_HITE, neg)\n",
        "data_senti_neucnt_HITE = cntWordInLine(data_text_HITE, neu)  \n",
        "\n",
        "data_senti_poscnt_CJ = cntWordInLine(data_text_CJ, pos)  \n",
        "data_senti_negcnt_CJ = cntWordInLine(data_text_CJ, neg)\n",
        "data_senti_neucnt_CJ = cntWordInLine(data_text_CJ, neu)  \n",
        "\n"
      ],
      "execution_count": null,
      "outputs": []
    },
    {
      "cell_type": "code",
      "metadata": {
        "id": "0fpIgaSU25Vh",
        "colab": {
          "base_uri": "https://localhost:8080/"
        },
        "outputId": "52c5b92b-b56c-4f32-afe3-ee64c95f9ecf"
      },
      "source": [
        "# 감정점수 계산\n",
        "# Pandas 데이터프레임으로 저장\n",
        "import pandas as pd\n",
        "newdata = pd.DataFrame({'id':data_id, 'text':data_text, 'original':data_senti, \n",
        "                        'pos':data_senti_poscnt, 'neg':data_senti_negcnt,  'neu':data_senti_neucnt})\n",
        "positive_score = newdata['pos']\n",
        "negative_score = newdata['neg']\n",
        "neutral_score = newdata['neu']\n",
        "senti_score = positive_score - negative_score    # 긍정개수에서 부정개수를 뺌\n",
        "newdata['senti_score'] = senti_score               # 그 수를 senti_score 컬럼에 저장 \n",
        "\n",
        "newdata.loc[newdata.senti_score >= 0, 'new'] = 1    # 새로운 긍정 기호\n",
        "newdata.loc[newdata.senti_score < 0, 'new'] = -1   # 새로운 부정 기호\n",
        "\n",
        "# print(\"positive_score : \",positive_score)\n",
        "# print(\"negative_score : \",negative_score)\n",
        "# print(\"neutral_score : \",neutral_score)\n",
        "\n",
        "\n",
        "for inx in range(len(newdata['pos'])):\n",
        "  # print(newdata['pos'][inx])\n",
        "  if(newdata['neu'][inx]>0 and newdata['neu'][inx] > newdata['pos'][inx] and newdata['neu'][inx]> newdata['neg'][inx]):\n",
        "    # print(\"yes\")\n",
        "    newdata['new'][inx] = 0   # 새로운 중립 기호\n",
        "# if( neutral_score >0  & neutral_score > positive_score  & neutral_score> negative_score  ).bool()\n",
        "\n",
        "\n",
        "# 처음에 기록된 긍부정과 새로 계산된 긍부정이 같은지 여부를 matched 컬럼에 저장\n",
        "# original 컬럼은 문자로 되어 있으므로 숫자로 변환 뒤 비교 \n",
        "# newdata.loc[pd.to_numeric(newdata.original) == newdata.new, 'matched'] = 'True'\n",
        "# newdata.loc[pd.to_numeric(newdata.original) != newdata.new, 'matched'] = 'False'"
      ],
      "execution_count": null,
      "outputs": [
        {
          "output_type": "stream",
          "text": [
            "/usr/local/lib/python3.6/dist-packages/ipykernel_launcher.py:24: SettingWithCopyWarning: \n",
            "A value is trying to be set on a copy of a slice from a DataFrame\n",
            "\n",
            "See the caveats in the documentation: https://pandas.pydata.org/pandas-docs/stable/user_guide/indexing.html#returning-a-view-versus-a-copy\n"
          ],
          "name": "stderr"
        }
      ]
    },
    {
      "cell_type": "code",
      "metadata": {
        "id": "Tf2_azg2H5ui"
      },
      "source": [
        "newdata_samhwa = pd.DataFrame({'id':data_id_samhwa , 'text':data_text_samhwa , 'original':data_senti_samhwa , \n",
        "                        'pos':data_senti_poscnt_samhwa , 'neg':data_senti_negcnt_samhwa ,  'neu':data_senti_neucnt_samhwa })\n",
        "positive_score = newdata_samhwa['pos']\n",
        "negative_score = newdata_samhwa['neg']\n",
        "neutral_score = newdata_samhwa['neu']\n",
        "senti_score = positive_score - negative_score    # 긍정개수에서 부정개수를 뺌\n",
        "newdata_samhwa['senti_score'] = senti_score               # 그 수를 senti_score 컬럼에 저장 \n",
        "\n",
        "newdata_samhwa.loc[newdata_samhwa.senti_score >= 0, 'new'] = 1    # 새로운 긍정 기호\n",
        "newdata_samhwa.loc[newdata_samhwa.senti_score < 0, 'new'] = -1   # 새로운 부정 기호\n",
        "\n",
        "# print(\"positive_score : \",positive_score)\n",
        "# print(\"negative_score : \",negative_score)\n",
        "# print(\"neutral_score : \",neutral_score)\n",
        "\n",
        "\n",
        "for inx in range(len(newdata_samhwa['pos'])):\n",
        "  # print(newdata['pos'][inx])\n",
        "  if(newdata_samhwa['neu'][inx]>0 and newdata_samhwa['neu'][inx] > newdata_samhwa['pos'][inx] and newdata_samhwa['neu'][inx]> newdata['neg'][inx]):\n",
        "    # print(\"yes\")\n",
        "    newdata_samhwa['new'][inx] = 0   # 새로운 중립 기호"
      ],
      "execution_count": null,
      "outputs": []
    },
    {
      "cell_type": "code",
      "metadata": {
        "colab": {
          "base_uri": "https://localhost:8080/"
        },
        "id": "plUVER0MIWRY",
        "outputId": "ddefb62e-a669-4a99-b0be-44fd79a9f1c7"
      },
      "source": [
        "newdata_kb = pd.DataFrame({'id':data_id_kyungbang  , 'text':data_text_kyungbang   , 'original':data_senti_kyungbang   , \n",
        "                        'pos':data_senti_poscnt_kb  , 'neg':data_senti_negcnt_kb  ,  'neu':data_senti_neucnt_kb  })\n",
        "positive_score = newdata_kb['pos']\n",
        "negative_score = newdata_kb['neg']\n",
        "neutral_score = newdata_kb['neu']\n",
        "senti_score = positive_score - negative_score    # 긍정개수에서 부정개수를 뺌\n",
        "newdata_kb['senti_score'] = senti_score               # 그 수를 senti_score 컬럼에 저장 \n",
        "\n",
        "newdata_kb.loc[newdata_kb.senti_score >= 0, 'new'] = 1    # 새로운 긍정 기호\n",
        "newdata_kb.loc[newdata_kb.senti_score < 0, 'new'] = -1   # 새로운 부정 기호\n",
        "\n",
        "# print(\"positive_score : \",positive_score)\n",
        "# print(\"negative_score : \",negative_score)\n",
        "# print(\"neutral_score : \",neutral_score)\n",
        "\n",
        "\n",
        "for inx in range(len(newdata_kb['pos'])):\n",
        "  # print(newdata['pos'][inx])\n",
        "  if(newdata_kb['neu'][inx]>0 and newdata_kb['neu'][inx] > newdata_kb['pos'][inx] and newdata_kb['neu'][inx]> newdata['neg'][inx]):\n",
        "    # print(\"yes\")\n",
        "    newdata_kb['new'][inx] = 0   # 새로운 중립 기호"
      ],
      "execution_count": null,
      "outputs": [
        {
          "output_type": "stream",
          "text": [
            "/usr/local/lib/python3.6/dist-packages/ipykernel_launcher.py:21: SettingWithCopyWarning: \n",
            "A value is trying to be set on a copy of a slice from a DataFrame\n",
            "\n",
            "See the caveats in the documentation: https://pandas.pydata.org/pandas-docs/stable/user_guide/indexing.html#returning-a-view-versus-a-copy\n"
          ],
          "name": "stderr"
        }
      ]
    },
    {
      "cell_type": "code",
      "metadata": {
        "id": "j4fmyawWJY57"
      },
      "source": [
        "newdata_KR = pd.DataFrame({'id':data_id_KR   , 'text':data_text_KR    , 'original':data_senti_KR    , \n",
        "                        'pos':data_senti_poscnt_KR   , 'neg':data_senti_negcnt_KR   ,  'neu':data_senti_neucnt_KR   })\n",
        "positive_score = newdata_KR['pos']\n",
        "negative_score = newdata_KR['neg']\n",
        "neutral_score = newdata_KR['neu']\n",
        "senti_score = positive_score - negative_score    # 긍정개수에서 부정개수를 뺌\n",
        "newdata_KR['senti_score'] = senti_score               # 그 수를 senti_score 컬럼에 저장 \n",
        "\n",
        "newdata_KR.loc[newdata_KR.senti_score >= 0, 'new'] = 1    # 새로운 긍정 기호\n",
        "newdata_KR.loc[newdata_KR.senti_score < 0, 'new'] = -1   # 새로운 부정 기호\n",
        "\n",
        "\n",
        "for inx in range(len(newdata_KR['pos'])):\n",
        "  # print(newdata['pos'][inx])\n",
        "  if(newdata_KR['neu'][inx]>0 and newdata_KR['neu'][inx] > newdata_KR['pos'][inx] and newdata_KR['neu'][inx]> newdata['neg'][inx]):\n",
        "    # print(\"yes\")\n",
        "    newdata_KR['new'][inx] = 0   # 새로운 중립 기호"
      ],
      "execution_count": null,
      "outputs": []
    },
    {
      "cell_type": "code",
      "metadata": {
        "id": "xtWo_QkcJxZI"
      },
      "source": [
        "newdata_Mrtz = pd.DataFrame({'id':data_id_meritz    , 'text':data_text_meritz     , 'original':data_senti_meritz     , \n",
        "                        'pos':data_senti_poscnt_meritz, 'neg':data_senti_negcnt_meritz,  'neu':data_senti_neucnt_meritz    })\n",
        "positive_score = newdata_Mrtz['pos']\n",
        "negative_score = newdata_Mrtz['neg']\n",
        "neutral_score = newdata_Mrtz['neu']\n",
        "senti_score = positive_score - negative_score    # 긍정개수에서 부정개수를 뺌\n",
        "newdata_Mrtz['senti_score'] = senti_score               # 그 수를 senti_score 컬럼에 저장 \n",
        "\n",
        "newdata_Mrtz.loc[newdata_Mrtz.senti_score >= 0, 'new'] = 1    # 새로운 긍정 기호\n",
        "newdata_Mrtz.loc[newdata_Mrtz.senti_score < 0, 'new'] = -1   # 새로운 부정 기호\n",
        "\n",
        "\n",
        "for inx in range(len(newdata_Mrtz['pos'])):\n",
        "  # print(newdata['pos'][inx])\n",
        "  if(newdata_Mrtz['neu'][inx]>0 and newdata_Mrtz['neu'][inx] > newdata_Mrtz['pos'][inx] and newdata_Mrtz['neu'][inx]> newdata['neg'][inx]):\n",
        "    # print(\"yes\")\n",
        "    newdata_Mrtz['new'][inx] = 0   # 새로운 중립 기호"
      ],
      "execution_count": null,
      "outputs": []
    },
    {
      "cell_type": "code",
      "metadata": {
        "colab": {
          "base_uri": "https://localhost:8080/"
        },
        "id": "RmzWT4bnKJml",
        "outputId": "f5ae26c3-6cc4-4560-d770-a309152e0bd5"
      },
      "source": [
        "newdata_samyang = pd.DataFrame({'id':data_id_samyang  , 'text':data_text_samyang  , 'original':data_senti_samyang  , \n",
        "                        'pos':data_senti_poscnt_samyang  , 'neg':data_senti_negcnt_samyang  ,  'neu':data_senti_neucnt_samyang  })\n",
        "positive_score = newdata_samyang['pos']\n",
        "negative_score = newdata_samyang['neg']\n",
        "neutral_score = newdata_samyang['neu']\n",
        "senti_score = positive_score - negative_score    # 긍정개수에서 부정개수를 뺌\n",
        "newdata_samyang['senti_score'] = senti_score               # 그 수를 senti_score 컬럼에 저장 \n",
        "\n",
        "newdata_samyang.loc[newdata_samyang.senti_score >= 0, 'new'] = 1    # 새로운 긍정 기호\n",
        "newdata_samyang.loc[newdata_samyang.senti_score < 0, 'new'] = -1   # 새로운 부정 기호\n",
        "\n",
        "\n",
        "for inx in range(len(newdata_samyang['pos'])):\n",
        "  # print(newdata['pos'][inx])\n",
        "  if(newdata_samyang['neu'][inx]>0 and newdata_samyang['neu'][inx] > newdata_samyang['pos'][inx] and newdata_samyang['neu'][inx]> newdata['neg'][inx]):\n",
        "    # print(\"yes\")\n",
        "    newdata_samyang['new'][inx] = 0   # 새로운 중립 기호"
      ],
      "execution_count": null,
      "outputs": [
        {
          "output_type": "stream",
          "text": [
            "/usr/local/lib/python3.6/dist-packages/ipykernel_launcher.py:17: SettingWithCopyWarning: \n",
            "A value is trying to be set on a copy of a slice from a DataFrame\n",
            "\n",
            "See the caveats in the documentation: https://pandas.pydata.org/pandas-docs/stable/user_guide/indexing.html#returning-a-view-versus-a-copy\n"
          ],
          "name": "stderr"
        }
      ]
    },
    {
      "cell_type": "code",
      "metadata": {
        "id": "OVQnCRr3Khzt"
      },
      "source": [
        "newdata_HITE = pd.DataFrame({'id':data_id_HITE  , 'text':data_text_HITE  , 'original':data_senti_HITE  , \n",
        "                        'pos':data_senti_poscnt_HITE  , 'neg':data_senti_negcnt_HITE  ,  'neu':data_senti_neucnt_HITE  })\n",
        "positive_score = newdata_HITE['pos']\n",
        "negative_score = newdata_HITE['neg']\n",
        "neutral_score = newdata_HITE['neu']\n",
        "senti_score = positive_score - negative_score    # 긍정개수에서 부정개수를 뺌\n",
        "newdata_HITE['senti_score'] = senti_score               # 그 수를 senti_score 컬럼에 저장 \n",
        "\n",
        "newdata_HITE.loc[newdata_HITE.senti_score >= 0, 'new'] = 1    # 새로운 긍정 기호\n",
        "newdata_HITE.loc[newdata_HITE.senti_score < 0, 'new'] = -1   # 새로운 부정 기호\n",
        "\n",
        "# print(\"positive_score : \",positive_score)\n",
        "# print(\"negative_score : \",negative_score)\n",
        "# print(\"neutral_score : \",neutral_score)\n",
        "\n",
        "\n",
        "for inx in range(len(newdata_HITE['pos'])):\n",
        "  # print(newdata['pos'][inx])\n",
        "  if(newdata_HITE['neu'][inx]>0 and newdata_HITE['neu'][inx] > newdata_HITE['pos'][inx] and newdata_HITE['neu'][inx]> newdata['neg'][inx]):\n",
        "    # print(\"yes\")\n",
        "    newdata_HITE['new'][inx] = 0   # 새로운 중립 기호"
      ],
      "execution_count": null,
      "outputs": []
    },
    {
      "cell_type": "code",
      "metadata": {
        "id": "MPT8supNK9lF"
      },
      "source": [
        "newdata_HITEHD = pd.DataFrame({'id':data_id_HITEHD, 'text':data_text_HITEHD, 'original':data_senti_HITEHD, \n",
        "                        'pos':data_senti_poscnt_HD, 'neg':data_senti_negcnt_HD, 'neu':data_senti_neucnt_HD})\n",
        "positive_score = newdata_HITEHD['pos']\n",
        "negative_score = newdata_HITEHD['neg']\n",
        "neutral_score = newdata_HITEHD['neu']\n",
        "senti_score = positive_score - negative_score    # 긍정개수에서 부정개수를 뺌\n",
        "newdata_HITEHD['senti_score'] = senti_score               # 그 수를 senti_score 컬럼에 저장 \n",
        "\n",
        "newdata_HITEHD.loc[newdata_HITEHD.senti_score >= 0, 'new'] = 1    # 새로운 긍정 기호\n",
        "newdata_HITEHD.loc[newdata_HITEHD.senti_score < 0, 'new'] = -1   # 새로운 부정 기호\n",
        "\n",
        "for inx in range(len(newdata_HITEHD['pos'])):\n",
        "  # print(newdata['pos'][inx])\n",
        "  if(newdata_HITEHD['neu'][inx]>0 and newdata_HITEHD['neu'][inx] > newdata_HITEHD['pos'][inx] and newdata_HITEHD['neu'][inx]> newdata['neg'][inx]):\n",
        "    # print(\"yes\")\n",
        "    newdata_HITEHD['new'][inx] = 0   # 새로운 중립 기호"
      ],
      "execution_count": null,
      "outputs": []
    },
    {
      "cell_type": "code",
      "metadata": {
        "colab": {
          "base_uri": "https://localhost:8080/"
        },
        "id": "vRThAYXULZEf",
        "outputId": "2d72db0c-6b3c-4147-ebb7-5996e740f74b"
      },
      "source": [
        "newdata_yuhan = pd.DataFrame({'id':data_id_yuhan , 'text':data_text_yuhan , 'original':data_senti_yuhan , \n",
        "                        'pos':data_senti_poscnt_yuhan , 'neg':data_senti_negcnt_yuhan , 'neu':data_senti_neucnt_yuhan })\n",
        "positive_score = newdata_yuhan['pos']\n",
        "negative_score = newdata_yuhan['neg']\n",
        "neutral_score = newdata_yuhan['neu']\n",
        "senti_score = positive_score - negative_score    # 긍정개수에서 부정개수를 뺌\n",
        "newdata_yuhan['senti_score'] = senti_score               # 그 수를 senti_score 컬럼에 저장 \n",
        "\n",
        "newdata_yuhan.loc[newdata_yuhan.senti_score >= 0, 'new'] = 1    # 새로운 긍정 기호\n",
        "newdata_yuhan.loc[newdata_yuhan.senti_score < 0, 'new'] = -1   # 새로운 부정 기호\n",
        "\n",
        "\n",
        "for inx in range(len(newdata_yuhan['pos'])):\n",
        "  # print(newdata['pos'][inx])\n",
        "  if(newdata_yuhan['neu'][inx]>0 and newdata_yuhan['neu'][inx] > newdata_yuhan['pos'][inx] and newdata_yuhan['neu'][inx]> newdata['neg'][inx]):\n",
        "    # print(\"yes\")\n",
        "    newdata_yuhan['new'][inx] = 0   # 새로운 중립 기호"
      ],
      "execution_count": null,
      "outputs": [
        {
          "output_type": "stream",
          "text": [
            "/usr/local/lib/python3.6/dist-packages/ipykernel_launcher.py:17: SettingWithCopyWarning: \n",
            "A value is trying to be set on a copy of a slice from a DataFrame\n",
            "\n",
            "See the caveats in the documentation: https://pandas.pydata.org/pandas-docs/stable/user_guide/indexing.html#returning-a-view-versus-a-copy\n"
          ],
          "name": "stderr"
        }
      ]
    },
    {
      "cell_type": "code",
      "metadata": {
        "id": "MXV_VrSuLpQg"
      },
      "source": [
        "newdata_CJ = pd.DataFrame({'id':data_id_CJ , 'text':data_text_CJ , 'original':data_senti_CJ , \n",
        "                        'pos':data_senti_poscnt_CJ , 'neg':data_senti_negcnt_CJ , 'neu':data_senti_neucnt_CJ })\n",
        "positive_score = newdata_CJ['pos']\n",
        "negative_score = newdata_CJ['neg']\n",
        "neutral_score = newdata_CJ['neu']\n",
        "senti_score = positive_score - negative_score    # 긍정개수에서 부정개수를 뺌\n",
        "newdata_CJ['senti_score'] = senti_score               # 그 수를 senti_score 컬럼에 저장 \n",
        "\n",
        "newdata_CJ.loc[newdata_CJ.senti_score >= 0, 'new'] = 1    # 새로운 긍정 기호\n",
        "newdata_CJ.loc[newdata_CJ.senti_score < 0, 'new'] = -1   # 새로운 부정 기호\n",
        "\n",
        "for inx in range(len(newdata_CJ['pos'])):\n",
        "  # print(newdata['pos'][inx])\n",
        "  if(newdata_CJ['neu'][inx]>0 and newdata_CJ['neu'][inx] > newdata_CJ['pos'][inx] and newdata_CJ['neu'][inx]> newdata['neg'][inx]):\n",
        "    # print(\"yes\")\n",
        "    newdata_CJ['new'][inx] = 0   # 새로운 중립 기호"
      ],
      "execution_count": null,
      "outputs": []
    },
    {
      "cell_type": "code",
      "metadata": {
        "id": "YfVg8ekQvFgU"
      },
      "source": [
        "# 시그모이드 점수 계산\n",
        "import math\n",
        "def sigmoid(x):\n",
        "  return 1 / (1 + math.exp(-x))\n",
        "\n",
        "newdata['sigmoid'] = newdata.senti_score.apply(sigmoid)\n",
        "newdata_CJ['sigmoid'] = newdata_CJ.senti_score.apply(sigmoid)\n",
        "newdata_yuhan['sigmoid'] = newdata_yuhan.senti_score.apply(sigmoid)\n",
        "newdata_HITEHD['sigmoid'] = newdata_HITEHD.senti_score.apply(sigmoid)\n",
        "newdata_HITE['sigmoid'] = newdata_HITE.senti_score.apply(sigmoid)\n",
        "newdata_samyang['sigmoid'] = newdata_samyang.senti_score.apply(sigmoid)\n",
        "newdata_Mrtz['sigmoid'] = newdata_Mrtz.senti_score.apply(sigmoid)\n",
        "newdata_KR['sigmoid'] = newdata_KR.senti_score.apply(sigmoid)\n",
        "newdata_kb['sigmoid'] = newdata_kb.senti_score.apply(sigmoid)\n",
        "newdata_samhwa['sigmoid'] = newdata_samhwa.senti_score.apply(sigmoid)\n"
      ],
      "execution_count": null,
      "outputs": []
    },
    {
      "cell_type": "code",
      "metadata": {
        "id": "jSSRLpdPM7om"
      },
      "source": [
        "\n",
        "newdata.to_csv('/content/drive/My Drive/Colab Notebooks/stock_ML/donghwa.csv', sep=',', encoding=\"utf-8\", index=False) \t# csv 저장\n",
        "newdata_CJ.to_csv('/content/drive/My Drive/Colab Notebooks/stock_ML/CJ.csv', sep=',', encoding=\"utf-8\", index=False) \n",
        "newdata_yuhan.to_csv('/content/drive/My Drive/Colab Notebooks/stock_ML/yuhan.csv', sep=',', encoding=\"utf-8\", index=False)\n",
        "newdata_HITEHD.to_csv('/content/drive/My Drive/Colab Notebooks/stock_ML/HITEHD.csv', sep=',', encoding=\"utf-8\", index=False)\n",
        "newdata_HITE.to_csv('/content/drive/My Drive/Colab Notebooks/stock_ML/HITE.csv', sep=',', encoding=\"utf-8\", index=False)\n",
        "newdata_samyang.to_csv('/content/drive/My Drive/Colab Notebooks/stock_ML/samyang.csv', sep=',', encoding=\"utf-8\", index=False)\n",
        "newdata_Mrtz.to_csv('/content/drive/My Drive/Colab Notebooks/stock_ML/Mrtz.csv', sep=',', encoding=\"utf-8\", index=False)\n",
        "newdata_KR.to_csv('/content/drive/My Drive/Colab Notebooks/stock_ML/KR.csv', sep=',', encoding=\"utf-8\", index=False)\n",
        "newdata_kb.to_csv('/content/drive/My Drive/Colab Notebooks/stock_ML/kb.csv', sep=',', encoding=\"utf-8\", index=False)\n",
        "newdata_samhwa.to_csv('/content/drive/My Drive/Colab Notebooks/stock_ML/samhwa.csv', sep=',', encoding=\"utf-8\", index=False) "
      ],
      "execution_count": null,
      "outputs": []
    },
    {
      "cell_type": "code",
      "metadata": {
        "id": "joHD0J6AIrhY"
      },
      "source": [
        "\n",
        "from collections import Counter \n",
        "#sigmoid 함수 결과를 그래프로 보여주는 코드\n",
        "from pandas import Series, DataFrame\n",
        "# sig = newdata.loc[:,['sigmoid']]\n"
      ],
      "execution_count": null,
      "outputs": []
    },
    {
      "cell_type": "code",
      "metadata": {
        "id": "lupluu52UXvM"
      },
      "source": [
        "\n",
        "#중립 영역을 설정 해야하는데,, 이건 그냥 임의로 설정해야됨\n",
        "#나는 여기서 0.4-0.6은 중립, 0.4미만은 부정, 0.6초과는 긍정으로 볼거야\n",
        "donghwa_pos =0 \n",
        "donghwa_neg=0 \n",
        "donghwa_neu=0\n",
        "samwha_pos = 0\n",
        "samhwa_neg =0\n",
        "samhwa_neu =0\n",
        "CJ_pos =0 \n",
        "CJ_neg=0 \n",
        "CJ_neu =0\n",
        "KR_pos =0 \n",
        "KR_neg =0 \n",
        "KR_neu =0\n",
        "kb_pos =0\n",
        "kb_neg =0 \n",
        "kb_neu =0\n",
        "mertz_pos=0\n",
        "mertz_neg =0\n",
        "mertz_neu=0\n",
        "samyang_pos =0\n",
        "samyang_neg =0\n",
        "samyang_neu=0\n",
        "HITE_pos =0\n",
        "HITE_neg =0\n",
        "HITE_neu=0\n",
        "HITEHD_pos =0\n",
        "HITEHD_neg =0\n",
        "HITEHD_neu =0\n",
        "yuhan_pos =0\n",
        "yuhan_neg =0\n",
        "yuhan_neu=0\n",
        "\n",
        "for i in range(len(newdata['sigmoid'])):\n",
        "  if(newdata['sigmoid'][i]>0.6):\n",
        "    #긍정\n",
        "    donghwa_pos+=1\n",
        "  elif(newdata['sigmoid'][i]<0.4):\n",
        "    # 부정\n",
        "    donghwa_neg+=1\n",
        "  else:\n",
        "    donghwa_neu+=1\n",
        "    \n",
        "for i in range(len(newdata_samhwa['sigmoid'])):\n",
        "  if(newdata_samhwa['sigmoid'][i]>0.6):\n",
        "    samwha_pos+=1\n",
        "  elif(newdata_samhwa['sigmoid'][i]<0.4):\n",
        "    samhwa_neg+=1\n",
        "  else:\n",
        "    samhwa_neu+=1\n",
        "    \n",
        "for i in range(len(newdata_CJ['sigmoid'])):\n",
        "  if(newdata_CJ['sigmoid'][i]>0.6):\n",
        "    CJ_pos+=1\n",
        "  elif(newdata_CJ['sigmoid'][i]<0.4):\n",
        "    CJ_neg+=1\n",
        "  else:\n",
        "    samhwa_neu+=1\n",
        "\n",
        "for i in range(len(newdata_KR['sigmoid'])):\n",
        "  if(newdata_KR['sigmoid'][i]>0.6):\n",
        "    KR_pos+=1\n",
        "  elif(newdata_KR['sigmoid'][i]<0.4):\n",
        "    KR_neg+=1\n",
        "  else:\n",
        "    KR_neu+=1\n",
        "\n",
        "for i in range(len(newdata_kb['sigmoid'])):\n",
        "  if(newdata_kb['sigmoid'][i]>0.6):\n",
        "    kb_pos+=1\n",
        "  elif(newdata_kb['sigmoid'][i]<0.4):\n",
        "    kb_neg+=1\n",
        "  else:\n",
        "    kb_neu+=1\n",
        "\n",
        "for i in range(len(newdata_Mrtz['sigmoid'])):\n",
        "  if(newdata_Mrtz['sigmoid'][i]>0.6):\n",
        "    mertz_pos+=1\n",
        "  elif(newdata_Mrtz['sigmoid'][i]<0.4):\n",
        "    mertz_neg+=1\n",
        "  else:\n",
        "    mertz_neu+=1\n",
        "\n",
        "\n",
        "for i in range(len(newdata_samyang['sigmoid'])):\n",
        "  if(newdata_samyang['sigmoid'][i]>0.6):\n",
        "    samyang_pos+=1\n",
        "  elif(newdata_samyang['sigmoid'][i]<0.4):\n",
        "    samyang_neg+=1\n",
        "  else:\n",
        "    samyang_neu+=1\n",
        "\n",
        "\n",
        "for i in range(len(newdata_HITE['sigmoid'])):\n",
        "  if(newdata_HITE['sigmoid'][i]>0.6):\n",
        "    HITE_pos+=1\n",
        "  elif(newdata_HITE['sigmoid'][i]<0.4):\n",
        "    HITE_neg+=1\n",
        "  else:\n",
        "    HITE_neu+=1\n",
        "\n",
        "for i in range(len(newdata_HITEHD['sigmoid'])):\n",
        "  if(newdata_HITEHD['sigmoid'][i]>0.6):\n",
        "    HITEHD_pos+=1\n",
        "  elif(newdata_HITEHD['sigmoid'][i]<0.4):\n",
        "    HITEHD_neg+=1\n",
        "  else:\n",
        "    HITEHD_neu+=1\n",
        "\n",
        "\n",
        "for i in range(len(newdata_yuhan['sigmoid'])):\n",
        "  if(newdata_yuhan['sigmoid'][i]>0.6):\n",
        "    yuhan_pos+=1\n",
        "  elif(newdata_yuhan['sigmoid'][i]<0.4):\n",
        "    yuhan_neg+=1\n",
        "  else:\n",
        "    yuhan_neu+=1\n",
        "\n",
        "\n",
        "\n",
        "sig_list = Counter({'pos_cnt':donghwa_pos , 'neg_cnt':donghwa_neg,'neu_cnt':donghwa_neu  })\n",
        "sig_list2 = Counter({'pos_cnt':samwha_pos , 'neg_cnt':samhwa_neg ,'neu_cnt':samhwa_neu  })\n",
        "sig_list3 = Counter({'pos_cnt':CJ_pos  , 'neg_cnt':CJ_neg,'neu_cnt':CJ_neu   })\n",
        "sig_list4 = Counter({'pos_cnt':KR_pos  , 'neg_cnt':KR_neg  ,'neu_cnt':KR_neu  })\n",
        "sig_list5 = Counter({'pos_cnt':kb_pos  , 'neg_cnt':kb_neg ,'neu_cnt':kb_neu   })\n",
        "sig_list6 = Counter({'pos_cnt':mertz_pos , 'neg_cnt':mertz_neg  ,'neu_cnt':mertz_neu  })\n",
        "sig_list7 = Counter({'pos_cnt':samyang_pos  , 'neg_cnt':samyang_neg ,'neu_cnt':samyang_neu  })\n",
        "sig_list8 = Counter({'pos_cnt':HITE_pos  , 'neg_cnt':HITE_neg  ,'neu_cnt':HITE_neu  })\n",
        "sig_list9 = Counter({'pos_cnt':HITEHD_pos   , 'neg_cnt':HITEHD_neg   ,'neu_cnt':HITEHD_neu   })\n",
        "sig_list10 = Counter({'pos_cnt':yuhan_pos   , 'neg_cnt':yuhan_neg   ,'neu_cnt':yuhan_neu  })\n",
        "\n",
        "\n",
        "\n",
        "sorted_keys_sample = sorted(sig_list, key=sig_list.get, reverse=True)\n",
        "sorted_values_sample = sorted(sig_list.values(), reverse=True)\n",
        "\n",
        "sorted_keys_sample2 = sorted(sig_list2, key=sig_list2.get, reverse=True)\n",
        "sorted_values_sample2 = sorted(sig_list2.values(), reverse=True)\n",
        "\n",
        "sorted_keys_sample3 = sorted(sig_list3, key=sig_list3.get, reverse=True)\n",
        "sorted_values_sample3 = sorted(sig_list3.values(), reverse=True)\n",
        "\n",
        "sorted_keys_sample4 = sorted(sig_list4, key=sig_list4.get, reverse=True)\n",
        "sorted_values_sample4 = sorted(sig_list4.values(), reverse=True)\n",
        "\n",
        "sorted_keys_sample5 = sorted(sig_list5, key=sig_list5.get, reverse=True)\n",
        "sorted_values_sample5 = sorted(sig_list5.values(), reverse=True)\n",
        "\n",
        "sorted_keys_sample6 = sorted(sig_list6, key=sig_list6.get, reverse=True)\n",
        "sorted_values_sample6 = sorted(sig_list6.values(), reverse=True)\n",
        "\n",
        "sorted_keys_sample7 = sorted(sig_list7, key=sig_list7.get, reverse=True)\n",
        "sorted_values_sample7 = sorted(sig_list7.values(), reverse=True)\n",
        "\n",
        "sorted_keys_sample8 = sorted(sig_list8, key=sig_list8.get, reverse=True)\n",
        "sorted_values_sample8 = sorted(sig_list8.values(), reverse=True)\n",
        "\n",
        "sorted_keys_sample9 = sorted(sig_list9, key=sig_list9.get, reverse=True)\n",
        "sorted_values_sample9 = sorted(sig_list9.values(), reverse=True)\n",
        "\n",
        "sorted_keys_sample10 = sorted(sig_list10, key=sig_list10.get, reverse=True)\n",
        "sorted_values_sample10 = sorted(sig_list10.values(), reverse=True)"
      ],
      "execution_count": null,
      "outputs": []
    },
    {
      "cell_type": "code",
      "metadata": {
        "colab": {
          "base_uri": "https://localhost:8080/"
        },
        "id": "W7gTPUZiW39y",
        "outputId": "be6b084a-52ca-4e41-8660-36b0b98dd0ac"
      },
      "source": [
        "# sig_list = Counter({'pos_cnt':donghwa_pos , 'neg_cnt':donghwa_neg,'neu_cnt':donghwa_neu  })\n",
        "# sig_list2 = Counter({'pos_cnt':samwha_pos , 'neg_cnt':samhwa_neg ,'neu_cnt':samhwa_neu  })\n",
        "# sig_list3 = Counter({'pos_cnt':CJ_pos  , 'neg_cnt':CJ_neg,'neu_cnt':CJ_neu   })\n",
        "# sig_list4 = Counter({'pos_cnt':KR_pos  , 'neg_cnt':KR_neg  ,'neu_cnt':KR_neu  })\n",
        "# sig_list5 = Counter({'pos_cnt':kb_pos  , 'neg_cnt':kb_neg ,'neu_cnt':kb_neu   })\n",
        "# sig_list6 = Counter({'pos_cnt':mertz_pos , 'neg_cnt':mertz_neg  ,'neu_cnt':mertz_neu  })\n",
        "# sig_list7 = Counter({'pos_cnt':samyang_pos  , 'neg_cnt':samyang_neg ,'neu_cnt':samyang_neu  })\n",
        "# sig_list8 = Counter({'pos_cnt':HITE_pos  , 'neg_cnt':HITE_neg  ,'neu_cnt':HITE_neu  })\n",
        "# sig_list9 = Counter({'pos_cnt':HITEHD_pos   , 'neg_cnt':HITEHD_neg   ,'neu_cnt':HITEHD_neu   })\n",
        "# sig_list10 = Counter({'pos_cnt':yuhan_pos   , 'neg_cnt':yuhan_neg   ,'neu_cnt':yuhan_neu  })\n",
        "\n",
        "\n",
        "print(\"동화약품 : \", sig_list)\n",
        "print(\"삼화페인트 : \", sig_list2)\n",
        "print(\"CJ : \", sig_list3)\n",
        "print(\"KR 모터스 : \", sig_list4)\n",
        "print(\"경방 : \", sig_list5)\n",
        "print(\"메리츠화재 : \", sig_list6)\n",
        "print(\"삼양 : \", sig_list7)\n",
        "print(\"하이트진로 : \", sig_list8)\n",
        "print(\"하이트진로 홀딩스 : \", sig_list9)\n",
        "print(\"유한양행 : \", sig_list10)"
      ],
      "execution_count": null,
      "outputs": [
        {
          "output_type": "stream",
          "text": [
            "동화약품 :  Counter({'neu_cnt': 505, 'pos_cnt': 84, 'neg_cnt': 36})\n",
            "삼화페인트 :  Counter({'neu_cnt': 985, 'pos_cnt': 0, 'neg_cnt': 0})\n",
            "CJ :  Counter({'pos_cnt': 94, 'neg_cnt': 28, 'neu_cnt': 0})\n",
            "KR 모터스 :  Counter({'neu_cnt': 566, 'pos_cnt': 34, 'neg_cnt': 28})\n",
            "경방 :  Counter({'neu_cnt': 320, 'pos_cnt': 63, 'neg_cnt': 13})\n",
            "메리츠화재 :  Counter({'neu_cnt': 311, 'pos_cnt': 71, 'neg_cnt': 23})\n",
            "삼양 :  Counter({'neu_cnt': 419, 'pos_cnt': 46, 'neg_cnt': 8})\n",
            "하이트진로 :  Counter({'neu_cnt': 353, 'pos_cnt': 98, 'neg_cnt': 8})\n",
            "하이트진로 홀딩스 :  Counter({'neu_cnt': 353, 'pos_cnt': 98, 'neg_cnt': 8})\n",
            "유한양행 :  Counter({'neu_cnt': 495, 'pos_cnt': 111, 'neg_cnt': 24})\n"
          ],
          "name": "stdout"
        }
      ]
    },
    {
      "cell_type": "code",
      "metadata": {
        "colab": {
          "base_uri": "https://localhost:8080/",
          "height": 1000
        },
        "id": "qXlSXIdgJc5V",
        "outputId": "f1bcb6e4-691a-424f-b69f-5a0602a9a5fb"
      },
      "source": [
        "%matplotlib inline\n",
        "\n",
        "\n",
        "import matplotlib.pyplot as plt\n",
        "from matplotlib import font_manager, rc\n",
        "\n",
        "\n",
        "plt.bar( range(len(sig_list)),sorted_values_sample)\n",
        "plt.xticks( range(len(sig_list)),sorted_keys_sample)\n",
        "plt.title(\"donghwa\")\n",
        "plt.show()\n",
        "\n",
        "plt.bar( range(len(sig_list2)),sorted_values_sample2  )\n",
        "plt.xticks( range(len(sig_list2)),sorted_keys_sample2  )\n",
        "plt.title(\"samhwa\")\n",
        "plt.show()\n",
        "\n",
        "plt.bar( range(len(sig_list3)),sorted_values_sample3 )\n",
        "plt.xticks( range(len(sig_list3)),sorted_keys_sample3 )\n",
        "plt.title(\"CJ\")\n",
        "plt.show()\n",
        "\n",
        "plt.bar( range(len(sig_list4)),sorted_values_sample4 )\n",
        "plt.xticks( range(len(sig_list4)),sorted_keys_sample4 )\n",
        "plt.title(\"KR\")\n",
        "plt.show()\n",
        "\n",
        "plt.bar( range(len(sig_list5)),sorted_values_sample5)\n",
        "plt.xticks( range(len(sig_list5)),sorted_keys_sample5)\n",
        "plt.title(\"kyungbang\")\n",
        "plt.show()\n",
        "\n",
        "plt.bar( range(len(sig_list6)),sorted_values_sample6 )\n",
        "plt.xticks( range(len(sig_list6)),sorted_keys_sample6 )\n",
        "plt.title(\"Meritz\")\n",
        "plt.show()\n",
        "\n",
        "plt.bar( range(len(sig_list7)),sorted_values_sample7 )\n",
        "plt.xticks( range(len(sig_list7)),sorted_keys_sample7 )\n",
        "plt.title(\"samyang\")\n",
        "plt.show()\n",
        "\n",
        "\n",
        "plt.bar( range(len(sig_list8)),sorted_values_sample8 )\n",
        "plt.xticks( range(len(sig_list8)),sorted_keys_sample8 )\n",
        "plt.title(\"HITE\")\n",
        "plt.show()\n",
        "\n",
        "plt.bar( range(len(sig_list9)),sorted_values_sample9 )\n",
        "plt.xticks( range(len(sig_list9)),sorted_keys_sample9 )\n",
        "plt.title(\"HITE Holdings\")\n",
        "plt.show()\n",
        "\n",
        "plt.bar( range(len(sig_list10)),sorted_values_sample10 )\n",
        "plt.xticks( range(len(sig_list10)),sorted_keys_sample10 )\n",
        "plt.title(\"yuhan\")\n",
        "plt.show()"
      ],
      "execution_count": null,
      "outputs": [
        {
          "output_type": "display_data",
          "data": {
            "image/png": "[encoded data removed]",
            "text/plain": [
              "<Figure size 432x288 with 1 Axes>"
            ]
          },
          "metadata": {
            "tags": [],
            "needs_background": "light"
          }
        },
        {
          "output_type": "display_data",
          "data": {
            "image/png": "[encoded data removed]",
            "text/plain": [
              "<Figure size 432x288 with 1 Axes>"
            ]
          },
          "metadata": {
            "tags": [],
            "needs_background": "light"
          }
        },
        {
          "output_type": "display_data",
          "data": {
            "image/png": "[encoded data removed]",
            "text/plain": [
              "<Figure size 432x288 with 1 Axes>"
            ]
          },
          "metadata": {
            "tags": [],
            "needs_background": "light"
          }
        },
        {
          "output_type": "display_data",
          "data": {
            "image/png": "[encoded data removed]",
            "text/plain": [
              "<Figure size 432x288 with 1 Axes>"
            ]
          },
          "metadata": {
            "tags": [],
            "needs_background": "light"
          }
        },
        {
          "output_type": "display_data",
          "data": {
            "image/png": "[encoded data removed]",
            "text/plain": [
              "<Figure size 432x288 with 1 Axes>"
            ]
          },
          "metadata": {
            "tags": [],
            "needs_background": "light"
          }
        },
        {
          "output_type": "display_data",
          "data": {
            "image/png": "[encoded data removed]",
            "text/plain": [
              "<Figure size 432x288 with 1 Axes>"
            ]
          },
          "metadata": {
            "tags": [],
            "needs_background": "light"
          }
        },
        {
          "output_type": "display_data",
          "data": {
            "image/png": "[encoded data removed]",
            "text/plain": [
              "<Figure size 432x288 with 1 Axes>"
            ]
          },
          "metadata": {
            "tags": [],
            "needs_background": "light"
          }
        },
        {
          "output_type": "display_data",
          "data": {
            "image/png": "[encoded data removed]",
            "text/plain": [
              "<Figure size 432x288 with 1 Axes>"
            ]
          },
          "metadata": {
            "tags": [],
            "needs_background": "light"
          }
        },
        {
          "output_type": "display_data",
          "data": {
            "image/png": "[encoded data removed]",
            "text/plain": [
              "<Figure size 432x288 with 1 Axes>"
            ]
          },
          "metadata": {
            "tags": [],
            "needs_background": "light"
          }
        },
        {
          "output_type": "display_data",
          "data": {
            "image/png": "[encoded data removed]",
            "text/plain": [
              "<Figure size 432x288 with 1 Axes>"
            ]
          },
          "metadata": {
            "tags": [],
            "needs_background": "light"
          }
        }
      ]
    }
  ]
}